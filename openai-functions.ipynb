{
 "cells": [
  {
   "cell_type": "code",
   "execution_count": 1,
   "id": "e51faf3b",
   "metadata": {},
   "outputs": [],
   "source": [
    "import json\n",
    "import openai\n",
    "import requests\n",
    "\n",
    "GPT_MODEL = \"gpt-3.5-turbo-0613\""
   ]
  },
  {
   "cell_type": "code",
   "execution_count": 2,
   "id": "c7ffca04",
   "metadata": {},
   "outputs": [],
   "source": [
    "openai.api_key=\"BLAH\""
   ]
  },
  {
   "cell_type": "code",
   "execution_count": 3,
   "id": "1d9b37e5",
   "metadata": {},
   "outputs": [],
   "source": [
    "context=\"\"\"AHMEDABAD, India/KARACHI, June 16 (Reuters) - Roofs were blown off houses and trees and electric poles uprooted, leaving thousands without power as a severe cyclone made landfall and rain lashed both the Indian and Pakistani coasts early on Friday.\n",
    "\n",
    "At least two people died in India's western state of Gujarat after being swept away by flood waters just before the cyclone hit.\n",
    "\n",
    "More than 180,000 people were evacuated in India and Pakistan in the last few days as authorities braced for the cyclone, named Biparjoy, which means 'disaster' or 'calamity' in the Bengali language.\n",
    "\n",
    "Advertisement · Scroll to continue\n",
    "\n",
    "Report this ad\n",
    "It made landfall late on Thursday near Jakhau, a port in Gujarat that is close to the border with Pakistan, weather officials said.\n",
    "\n",
    "Biparjoy had weakened to a cyclonic storm from a severe cyclonic storm on Friday morning, India's Metereological Department said in its latest bulletin, with speeds going down from 105 km (65.24 miles) to 85 km (52.82 miles). Wind speeds are likely to reduce further by afternoon, the bulletin said.\n",
    "\n",
    "Two men, both shepherds, died while trying to rescue their cattle from being swept away during heavy rains and floods in Gujarat's Bhavnagar district on Thursday evening, the cyclone control room said.\n",
    "\n",
    "Advertisement · Scroll to continue\n",
    "\n",
    "Report this ad\n",
    "Power was disrupted at many places in the Kutch district of Gujarat because of strong winds, said Amit Arora, a top district official overseeing rescue operations.\n",
    "\n",
    "In neighbouring Pakistan, the cyclone had no major impact, with rain reported in some parts of the southern metropolis of Karachi, which was on high alert.\n",
    "\n",
    "Pakistan's weather department advised local authorities to remain on alert for expected heavy rain in some coastal areas until Saturday.\n",
    "\n",
    "Gale-force winds caused hundreds of trees to be uprooted in the coastal areas of Gujarat, and heavy rains led to electricity poles being damaged, causing thousands to be without power on Friday, local officials said.\n",
    "\n",
    "India's weather department warned of heavy to very heavy rainfall in Gujarat and the neighbouring state of Rajasthan through Friday. Pakistan's weather department said moderate to heavy rain was expected in the Hyderabad, Nooriabad and Thatta regions.\n",
    "\n",
    "Advertisement · Scroll to continue\n",
    "\n",
    "Report this ad\n",
    "Biparjoy weakened after hitting land with a wind speed of 85 km per hour (53 miles per hour) to 115 kmph (71 mph) Mrutyunjay Mohapatra, director general at the India Meteorological Department said earlier on Friday.\n",
    "\n",
    "Local television showed visuals of uprooted trees, people sheltering against strong winds and debris lying on roads in the aftermath of the cyclone.\n",
    "\n",
    "Biparjoy was classified as a category one storm, the least severe on a scale of one to five.\n",
    "\n",
    "The government had directed all offshore oil installations to ensure the immediate return of all staff to land and advised ports to also take preventive action, but there was no word on how the landfall had affected operations, if at all.\"\"\""
   ]
  },
  {
   "cell_type": "code",
   "execution_count": 4,
   "id": "957a7030",
   "metadata": {},
   "outputs": [],
   "source": [
    "function = [{\n",
    "        \"name\": \"get_cyclone\",\n",
    "        \"description\": \"Get the cyclone impact information as tuples (location, impact) from the context\",\n",
    "        \"parameters\": {\n",
    "            \"type\": \"object\",\n",
    "            \"properties\": {\n",
    "                \"impacts\": {\n",
    "                    \"type\": \"array\",\n",
    "                    \"items\":{\"type\": \"string\",\"description\": \"(location,impact)\"},\n",
    "                    \"description\": \"(location, impact)\",\n",
    "                },\n",
    "            },\n",
    "            \"required\": [\"impacts\"],\n",
    "        },\n",
    "    }]"
   ]
  },
  {
   "cell_type": "code",
   "execution_count": 5,
   "id": "38523ffe",
   "metadata": {},
   "outputs": [
    {
     "name": "stdout",
     "output_type": "stream",
     "text": [
      "{\n",
      "  \"choices\": [\n",
      "    {\n",
      "      \"finish_reason\": \"stop\",\n",
      "      \"index\": 0,\n",
      "      \"message\": {\n",
      "        \"content\": null,\n",
      "        \"function_call\": {\n",
      "          \"arguments\": \"{\\n\\\"impacts\\\": [\\\"India's western state of Gujarat, Roofs were blown off houses and trees and electric poles uprooted, leaving thousands without power\\\", \\n             \\\"India's western state of Gujarat, At least two people died after being swept away by flood waters\\\", \\n             \\\"India and Pakistan, More than 180,000 people were evacuated\\\", \\n             \\\"Jakhau, Gujarat, It made landfall\\\", \\n             \\\"Gujarat's Bhavnagar district, Two men died while trying to rescue their cattle from being swept away during heavy rains and floods\\\", \\n             \\\"Kutch district of Gujarat, Power was disrupted at many places because of strong winds\\\", \\n             \\\"Pakistan, Rain reported in some parts of Karachi, high alert in place\\\", \\n             \\\"Coastal areas of Gujarat, Gale-force winds caused hundreds of trees to be uprooted and heavy rains led to electricity poles being damaged, causing thousands to be without power\\\", \\n             \\\"Gujarat and the neighbouring state of Rajasthan, Heavy to very heavy rainfall expected\\\", \\n             \\\"Hyderabad, Nooriabad and Thatta regions in Pakistan, Moderate to heavy rain expected\\\",\\n             \\\"All offshore oil installations, The government had directed all to ensure the immediate return of all staff to land\\\"]\\n}\",\n",
      "          \"name\": \"get_cyclone\"\n",
      "        },\n",
      "        \"role\": \"assistant\"\n",
      "      }\n",
      "    }\n",
      "  ],\n",
      "  \"created\": 1687024741,\n",
      "  \"id\": \"chatcmpl-7SUUPpeNRSe2YnujkJik0312h6WB8\",\n",
      "  \"model\": \"gpt-4-0613\",\n",
      "  \"object\": \"chat.completion\",\n",
      "  \"usage\": {\n",
      "    \"completion_tokens\": 261,\n",
      "    \"prompt_tokens\": 704,\n",
      "    \"total_tokens\": 965\n",
      "  }\n",
      "}\n"
     ]
    }
   ],
   "source": [
    "completion=openai.ChatCompletion.create(\n",
    "    model=\"gpt-4-0613\",\n",
    "    messages=[{\"role\": \"user\", \"content\": f\"{context}\"}],\n",
    "    functions=function,\n",
    "function_call={\"name\": \"get_cyclone\"},\n",
    ")\n",
    "print(completion)"
   ]
  },
  {
   "cell_type": "code",
   "execution_count": 6,
   "id": "d38af00a",
   "metadata": {},
   "outputs": [],
   "source": [
    "reply_content = completion.choices[0].message\n",
    "funcs = reply_content.to_dict()['function_call']['arguments']\n",
    "funcs = json.loads(funcs)"
   ]
  },
  {
   "cell_type": "code",
   "execution_count": 7,
   "id": "645a394f",
   "metadata": {},
   "outputs": [
    {
     "data": {
      "text/plain": [
       "[\"India's western state of Gujarat, Roofs were blown off houses and trees and electric poles uprooted, leaving thousands without power\",\n",
       " \"India's western state of Gujarat, At least two people died after being swept away by flood waters\",\n",
       " 'India and Pakistan, More than 180,000 people were evacuated',\n",
       " 'Jakhau, Gujarat, It made landfall',\n",
       " \"Gujarat's Bhavnagar district, Two men died while trying to rescue their cattle from being swept away during heavy rains and floods\",\n",
       " 'Kutch district of Gujarat, Power was disrupted at many places because of strong winds',\n",
       " 'Pakistan, Rain reported in some parts of Karachi, high alert in place',\n",
       " 'Coastal areas of Gujarat, Gale-force winds caused hundreds of trees to be uprooted and heavy rains led to electricity poles being damaged, causing thousands to be without power',\n",
       " 'Gujarat and the neighbouring state of Rajasthan, Heavy to very heavy rainfall expected',\n",
       " 'Hyderabad, Nooriabad and Thatta regions in Pakistan, Moderate to heavy rain expected',\n",
       " 'All offshore oil installations, The government had directed all to ensure the immediate return of all staff to land']"
      ]
     },
     "execution_count": 7,
     "metadata": {},
     "output_type": "execute_result"
    }
   ],
   "source": [
    "funcs[\"impacts\"]"
   ]
  },
  {
   "cell_type": "code",
   "execution_count": 8,
   "id": "b975196e",
   "metadata": {},
   "outputs": [],
   "source": [
    "function2 = [{\n",
    "        \"name\": \"get_cyclone\",\n",
    "        \"description\": \"Get the cyclone impact information as tuples (location, impact) from the context\",\n",
    "        \"parameters\": {\n",
    "            \"type\": \"object\",\n",
    "            \"properties\": {\n",
    "                \"impacts\": {\n",
    "                    \"type\": \"array\",\n",
    "                    \"items\":{\"type\": \"string\",\"description\": \"(location,impact)\"},\n",
    "                    \"description\": \"(location, impact)\",\n",
    "                },\n",
    "            },\n",
    "            \"required\": [\"impacts\"],\n",
    "        },\n",
    "    },\n",
    "{\n",
    "        \"name\": \"get_cyclone2\",\n",
    "        \"description\": \"Get the cyclone impact information as tuples from the context\",\n",
    "        \"parameters\": {\n",
    "            \"type\": \"object\",\n",
    "            \"properties\": {\n",
    "                \"impacts\": {\n",
    "                    \"type\": \"array\",\n",
    "                    \"items\":{\"type\": \"string\",\"description\": \"(location,impact)\"},\n",
    "                    \"description\": \"(location, impact)\",\n",
    "                },\n",
    "                \"hurricane_date\": {\n",
    "                    \"type\": \"array\",\n",
    "                    \"items\":{\"type\": \"string\",\"description\": \"(location,date)\"},\n",
    "                    \"description\": \"(location, date of landfall)\",\n",
    "                }\n",
    "            },\n",
    "            \"required\": [\"impacts\",\"hurricane_date\"],\n",
    "        },\n",
    "    }]"
   ]
  },
  {
   "cell_type": "code",
   "execution_count": 9,
   "id": "89f8de34",
   "metadata": {},
   "outputs": [
    {
     "name": "stdout",
     "output_type": "stream",
     "text": [
      "{\n",
      "  \"choices\": [\n",
      "    {\n",
      "      \"finish_reason\": \"stop\",\n",
      "      \"index\": 0,\n",
      "      \"message\": {\n",
      "        \"content\": null,\n",
      "        \"function_call\": {\n",
      "          \"arguments\": \"{\\n\\\"impacts\\\": [\\\"India, severe cyclone landfall, roofs blown off houses, trees and electric poles uprooted, thousands without power, 2 people swept away by flood, 180000 people evacuated, 2 shepherds died, power disrupted in Kutch district, Gujarat\\\",\\n\\\"Pakistan, rain, no major impact, heavy expected rain in some coastal areas\\\"],\\n\\\"hurricane_date\\\": [\\\"Jakhau, Gujarat, India, late on Thursday\\\", \\\"Karachi, Pakistan, early on Friday\\\"]\\n}\",\n",
      "          \"name\": \"get_cyclone2\"\n",
      "        },\n",
      "        \"role\": \"assistant\"\n",
      "      }\n",
      "    }\n",
      "  ],\n",
      "  \"created\": 1687025118,\n",
      "  \"id\": \"chatcmpl-7SUaUNHhPhWnHlDNFtHgAoemIF3t5\",\n",
      "  \"model\": \"gpt-4-0613\",\n",
      "  \"object\": \"chat.completion\",\n",
      "  \"usage\": {\n",
      "    \"completion_tokens\": 107,\n",
      "    \"prompt_tokens\": 759,\n",
      "    \"total_tokens\": 866\n",
      "  }\n",
      "}\n"
     ]
    }
   ],
   "source": [
    "completion=openai.ChatCompletion.create(\n",
    "    model=\"gpt-4-0613\",\n",
    "    messages=[{\"role\": \"user\", \"content\": f\"{context}\"}],\n",
    "    functions=function2,\n",
    "function_call={\"name\": \"get_cyclone2\"},\n",
    ")\n",
    "print(completion)"
   ]
  },
  {
   "cell_type": "code",
   "execution_count": 10,
   "id": "229652a6",
   "metadata": {},
   "outputs": [
    {
     "data": {
      "text/plain": [
       "['Jakhau, Gujarat, India, late on Thursday',\n",
       " 'Karachi, Pakistan, early on Friday']"
      ]
     },
     "execution_count": 10,
     "metadata": {},
     "output_type": "execute_result"
    }
   ],
   "source": [
    "reply_content = completion.choices[0].message\n",
    "funcs = reply_content.to_dict()['function_call']['arguments']\n",
    "funcs = json.loads(funcs)\n",
    "funcs[\"hurricane_date\"]"
   ]
  },
  {
   "cell_type": "code",
   "execution_count": 11,
   "id": "da5b0129",
   "metadata": {},
   "outputs": [
    {
     "data": {
      "text/plain": [
       "['India, severe cyclone landfall, roofs blown off houses, trees and electric poles uprooted, thousands without power, 2 people swept away by flood, 180000 people evacuated, 2 shepherds died, power disrupted in Kutch district, Gujarat',\n",
       " 'Pakistan, rain, no major impact, heavy expected rain in some coastal areas']"
      ]
     },
     "execution_count": 11,
     "metadata": {},
     "output_type": "execute_result"
    }
   ],
   "source": [
    "funcs[\"impacts\"]"
   ]
  },
  {
   "cell_type": "code",
   "execution_count": null,
   "id": "fddcaec3",
   "metadata": {},
   "outputs": [],
   "source": []
  },
  {
   "cell_type": "code",
   "execution_count": 13,
   "id": "bf6bd947",
   "metadata": {},
   "outputs": [],
   "source": [
    "import sqlite3\n",
    "import pandas as pd"
   ]
  },
  {
   "cell_type": "code",
   "execution_count": 15,
   "id": "32e4da0c",
   "metadata": {},
   "outputs": [],
   "source": [
    "df = pd.read_csv(\"./qa2_all_site.csv\")\n"
   ]
  },
  {
   "cell_type": "code",
   "execution_count": 16,
   "id": "ec63044b",
   "metadata": {},
   "outputs": [],
   "source": [
    "table_name='q_a'\n",
    "conn = sqlite3.connect('mydb.sqlite')\n",
    "query = f'Create table if not Exists {table_name} (id, link, question, answer, created_at, text_data, df,article_id, message)'\n",
    "conn.execute(query)\n",
    "df.to_sql(table_name,conn,if_exists='replace',index=False)\n",
    "conn.commit()\n",
    "# conn.close()"
   ]
  },
  {
   "cell_type": "code",
   "execution_count": 17,
   "id": "7ef9c9f9",
   "metadata": {},
   "outputs": [],
   "source": [
    "def get_table_names(conn):\n",
    "    \"\"\"Return a list of table names.\"\"\"\n",
    "    table_names = []\n",
    "    tables = conn.execute(\"SELECT name FROM sqlite_master WHERE type='table';\")\n",
    "    for table in tables.fetchall():\n",
    "        table_names.append(table[0])\n",
    "    return table_names\n",
    "\n",
    "\n",
    "def get_column_names(conn, table_name):\n",
    "    \"\"\"Return a list of column names.\"\"\"\n",
    "    column_names = []\n",
    "    columns = conn.execute(f\"PRAGMA table_info('{table_name}');\").fetchall()\n",
    "    for col in columns:\n",
    "        column_names.append(col[1])\n",
    "    return column_names\n",
    "\n",
    "\n",
    "def get_database_info(conn):\n",
    "    \"\"\"Return a list of dicts containing the table name and columns for each table in the database.\"\"\"\n",
    "    table_dicts = []\n",
    "    for table_name in get_table_names(conn):\n",
    "        columns_names = get_column_names(conn, table_name)\n",
    "        table_dicts.append({\"table_name\": table_name, \"column_names\": columns_names})\n",
    "    return table_dicts"
   ]
  },
  {
   "cell_type": "code",
   "execution_count": 18,
   "id": "859b00ea",
   "metadata": {},
   "outputs": [],
   "source": [
    "database_schema_dict = get_database_info(conn)\n",
    "database_schema_string = \"\\n\".join(\n",
    "    [\n",
    "        f\"Table: {table['table_name']}\\nColumns: {', '.join(table['column_names'])}\"\n",
    "        for table in database_schema_dict\n",
    "    ]\n",
    ")"
   ]
  },
  {
   "cell_type": "code",
   "execution_count": 19,
   "id": "4d03fc87",
   "metadata": {},
   "outputs": [],
   "source": [
    "functions = [\n",
    "    {\n",
    "        \"name\": \"ask_database\",\n",
    "        \"description\": \"Use this function to answer user questions about the q_a table. Output should be a fully formed SQL query.\",\n",
    "        \"parameters\": {\n",
    "            \"type\": \"object\",\n",
    "            \"properties\": {\n",
    "                \"query\": {\n",
    "                    \"type\": \"string\",\n",
    "                    \"description\": f\"\"\"\n",
    "                            SQL query extracting info to answer the user's question.\n",
    "                            SQL should be written using this database schema:\n",
    "                            {database_schema_string}\n",
    "                            The query should be returned in plain text, not in JSON.\n",
    "                            \"\"\",\n",
    "                }\n",
    "            },\n",
    "            \"required\": [\"query\"],\n",
    "        },\n",
    "    }\n",
    "]"
   ]
  },
  {
   "cell_type": "code",
   "execution_count": 20,
   "id": "09b07b67",
   "metadata": {},
   "outputs": [],
   "source": [
    "def ask_database(conn, query):\n",
    "    \"\"\"Function to query SQLite database with a provided SQL query.\"\"\"\n",
    "    try:\n",
    "        results = str(conn.execute(query).fetchall())\n",
    "    except Exception as e:\n",
    "        results = f\"query failed with error: {e}\"\n",
    "    return results\n",
    "\n",
    "def execute_function_call(message):\n",
    "    if message[\"function_call\"][\"name\"] == \"ask_database\":\n",
    "        query = json.loads(message[\"function_call\"][\"arguments\"])[\"query\"]\n",
    "        results = ask_database(conn, query)\n",
    "    else:\n",
    "        results = f\"Error: function {message['function_call']['name']} does not exist\"\n",
    "    return results"
   ]
  },
  {
   "cell_type": "code",
   "execution_count": 22,
   "id": "2ff5de6f",
   "metadata": {},
   "outputs": [],
   "source": [
    "def chat_completion_request(messages, functions=None, function_call=None, model=GPT_MODEL):\n",
    "    headers = {\n",
    "        \"Content-Type\": \"application/json\",\n",
    "        \"Authorization\": \"Bearer \" + openai.api_key,\n",
    "    }\n",
    "    json_data = {\"model\": model, \"messages\": messages}\n",
    "    if functions is not None:\n",
    "        json_data.update({\"functions\": functions})\n",
    "    if function_call is not None:\n",
    "        json_data.update({\"function_call\": function_call})\n",
    "    try:\n",
    "        response = requests.post(\n",
    "            \"https://api.openai.com/v1/chat/completions\",\n",
    "            headers=headers,\n",
    "            json=json_data,\n",
    "        )\n",
    "        return response\n",
    "    except Exception as e:\n",
    "        print(\"Unable to generate ChatCompletion response\")\n",
    "        print(f\"Exception: {e}\")\n",
    "        return e"
   ]
  },
  {
   "cell_type": "code",
   "execution_count": null,
   "id": "7c783cca",
   "metadata": {},
   "outputs": [],
   "source": [
    "def get_chat_response(question, model=GPT_MODEL):\n",
    "\n",
    "    messages = []\n",
    "    messages.append({\"role\": \"system\", \"content\": \"Answer user questions by generating SQL queries against the q_a Database.\"})\n",
    "    messages.append({\"role\": \"user\", \"content\": question})\n",
    "    chat_response = chat_completion_request(messages, functions)\n",
    "    assistant_message = chat_response.json()[\"choices\"][0][\"message\"]\n",
    "    messages.append(assistant_message)\n",
    "    if assistant_message.get(\"function_call\"):\n",
    "        results = execute_function_call(assistant_message)\n",
    "        messages.append({\"role\": \"function\", \"name\": assistant_message[\"function_call\"][\"name\"], \"content\": results})\n",
    "\n",
    "    ask_database_content = next((msg[\"content\"] for msg in messages if msg.get(\"role\") == \"function\" and msg.get(\"name\") == \"ask_database\"), question)\n",
    "\n",
    "    messages_conversation = []\n",
    "    messages_conversation.append({\"role\": \"system\", \"content\": \"You're a friendly assistant. Answer user questions based on the provided data.\"})\n",
    "    messages_conversation.append({\"role\": \"user\", \"content\": question})\n",
    "    messages_conversation.append({\"role\": \"assistant\", \"content\": ask_database_content})\n",
    "\n",
    "    second_response = openai.ChatCompletion.create(\n",
    "        model=model,\n",
    "        messages=messages_conversation\n",
    "    )\n",
    "\n",
    "    return second_response[\"choices\"][0][\"message\"][\"content\"]"
   ]
  },
  {
   "cell_type": "code",
   "execution_count": null,
   "id": "4eab2bd5",
   "metadata": {},
   "outputs": [],
   "source": [
    "question = \"Hi, what are the most common 5 questions?\"\n",
    "response = get_chat_response(question)\n",
    "print(response)"
   ]
  },
  {
   "attachments": {},
   "cell_type": "markdown",
   "id": "d71a7859",
   "metadata": {},
   "source": [
    "Based on the data provided, the most common 5 questions are:\n",
    "\n",
    "1. \"What is this?\" (30 mentions)\n",
    "2. \"Who am I?\" (15 mentions)\n",
    "3. \"What does it talk about?\" (13 mentions)\n",
    "4. \"We need to make a description of this site\" (13 mentions)\n",
    "5. \"Summarize\" (13 mentions)"
   ]
  }
 ],
 "metadata": {
  "kernelspec": {
   "display_name": "Python 3 (ipykernel)",
   "language": "python",
   "name": "python3"
  },
  "language_info": {
   "codemirror_mode": {
    "name": "ipython",
    "version": 3
   },
   "file_extension": ".py",
   "mimetype": "text/x-python",
   "name": "python",
   "nbconvert_exporter": "python",
   "pygments_lexer": "ipython3",
   "version": "3.9.5"
  }
 },
 "nbformat": 4,
 "nbformat_minor": 5
}
